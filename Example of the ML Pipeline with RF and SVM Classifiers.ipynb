{
 "cells": [
  {
   "cell_type": "markdown",
   "id": "3a24ffde",
   "metadata": {},
   "source": [
    "# The Machine Learning Pipeline with a Random Forest Classifier and SVM Classifier\n",
    "### Simon Kennedy\n",
    "### 5/6/2022"
   ]
  },
  {
   "cell_type": "markdown",
   "id": "ae8b99d7",
   "metadata": {},
   "source": [
    "## Task 1\n",
    "\n",
    "Write code to load the dataset and run the machine learning pipeline using two different \n",
    "classifiers. \n",
    "\n"
   ]
  },
  {
   "cell_type": "markdown",
   "id": "41f72ed8",
   "metadata": {},
   "source": [
    "## Machine Learning Pipeline"
   ]
  },
  {
   "cell_type": "markdown",
   "id": "c1493865",
   "metadata": {},
   "source": [
    "# 1. Problem definition\n",
    "\n",
    "Propose a classifier with the best performance predicting the class of wine on the wine dataset from scikit learn.\n"
   ]
  },
  {
   "cell_type": "markdown",
   "id": "263e221e",
   "metadata": {},
   "source": [
    "# 2. Data Ingestion"
   ]
  },
  {
   "cell_type": "code",
   "execution_count": 1,
   "id": "5d9e72ee",
   "metadata": {},
   "outputs": [
    {
     "name": "stdout",
     "output_type": "stream",
     "text": [
      "['class_0' 'class_1' 'class_2']\n"
     ]
    }
   ],
   "source": [
    "import pandas as pd\n",
    "import numpy as np\n",
    "\n",
    "from sklearn.datasets import load_wine\n",
    "wine = load_wine()\n",
    "\n",
    "print(wine.target_names)"
   ]
  },
  {
   "cell_type": "markdown",
   "id": "91408554",
   "metadata": {},
   "source": [
    "# 3. Data Preparation"
   ]
  },
  {
   "cell_type": "code",
   "execution_count": 2,
   "id": "4adceb37",
   "metadata": {},
   "outputs": [
    {
     "data": {
      "text/plain": [
       "((178, 13), (178,))"
      ]
     },
     "execution_count": 2,
     "metadata": {},
     "output_type": "execute_result"
    }
   ],
   "source": [
    "X = wine.data\n",
    "y = wine.target\n",
    "\n",
    "X.shape, y.shape"
   ]
  },
  {
   "cell_type": "markdown",
   "id": "a122351a",
   "metadata": {},
   "source": [
    "### Scaling the descriptive features with StandardScaler()"
   ]
  },
  {
   "cell_type": "code",
   "execution_count": 3,
   "id": "260874af",
   "metadata": {},
   "outputs": [
    {
     "data": {
      "text/html": [
       "<div>\n",
       "<style scoped>\n",
       "    .dataframe tbody tr th:only-of-type {\n",
       "        vertical-align: middle;\n",
       "    }\n",
       "\n",
       "    .dataframe tbody tr th {\n",
       "        vertical-align: top;\n",
       "    }\n",
       "\n",
       "    .dataframe thead th {\n",
       "        text-align: right;\n",
       "    }\n",
       "</style>\n",
       "<table border=\"1\" class=\"dataframe\">\n",
       "  <thead>\n",
       "    <tr style=\"text-align: right;\">\n",
       "      <th></th>\n",
       "      <th>0</th>\n",
       "      <th>1</th>\n",
       "      <th>2</th>\n",
       "      <th>3</th>\n",
       "      <th>4</th>\n",
       "      <th>5</th>\n",
       "      <th>6</th>\n",
       "      <th>7</th>\n",
       "      <th>8</th>\n",
       "      <th>9</th>\n",
       "      <th>10</th>\n",
       "      <th>11</th>\n",
       "      <th>12</th>\n",
       "    </tr>\n",
       "  </thead>\n",
       "  <tbody>\n",
       "    <tr>\n",
       "      <th>count</th>\n",
       "      <td>1.780000e+02</td>\n",
       "      <td>1.780000e+02</td>\n",
       "      <td>1.780000e+02</td>\n",
       "      <td>1.780000e+02</td>\n",
       "      <td>1.780000e+02</td>\n",
       "      <td>1.780000e+02</td>\n",
       "      <td>1.780000e+02</td>\n",
       "      <td>1.780000e+02</td>\n",
       "      <td>1.780000e+02</td>\n",
       "      <td>1.780000e+02</td>\n",
       "      <td>1.780000e+02</td>\n",
       "      <td>1.780000e+02</td>\n",
       "      <td>1.780000e+02</td>\n",
       "    </tr>\n",
       "    <tr>\n",
       "      <th>mean</th>\n",
       "      <td>7.841418e-15</td>\n",
       "      <td>2.444986e-16</td>\n",
       "      <td>-4.059175e-15</td>\n",
       "      <td>-7.110417e-17</td>\n",
       "      <td>-2.494883e-17</td>\n",
       "      <td>-1.955365e-16</td>\n",
       "      <td>9.443133e-16</td>\n",
       "      <td>-4.178929e-16</td>\n",
       "      <td>-1.540590e-15</td>\n",
       "      <td>-4.129032e-16</td>\n",
       "      <td>1.398382e-15</td>\n",
       "      <td>2.126888e-15</td>\n",
       "      <td>-6.985673e-17</td>\n",
       "    </tr>\n",
       "    <tr>\n",
       "      <th>std</th>\n",
       "      <td>1.002821e+00</td>\n",
       "      <td>1.002821e+00</td>\n",
       "      <td>1.002821e+00</td>\n",
       "      <td>1.002821e+00</td>\n",
       "      <td>1.002821e+00</td>\n",
       "      <td>1.002821e+00</td>\n",
       "      <td>1.002821e+00</td>\n",
       "      <td>1.002821e+00</td>\n",
       "      <td>1.002821e+00</td>\n",
       "      <td>1.002821e+00</td>\n",
       "      <td>1.002821e+00</td>\n",
       "      <td>1.002821e+00</td>\n",
       "      <td>1.002821e+00</td>\n",
       "    </tr>\n",
       "    <tr>\n",
       "      <th>min</th>\n",
       "      <td>-2.434235e+00</td>\n",
       "      <td>-1.432983e+00</td>\n",
       "      <td>-3.679162e+00</td>\n",
       "      <td>-2.671018e+00</td>\n",
       "      <td>-2.088255e+00</td>\n",
       "      <td>-2.107246e+00</td>\n",
       "      <td>-1.695971e+00</td>\n",
       "      <td>-1.868234e+00</td>\n",
       "      <td>-2.069034e+00</td>\n",
       "      <td>-1.634288e+00</td>\n",
       "      <td>-2.094732e+00</td>\n",
       "      <td>-1.895054e+00</td>\n",
       "      <td>-1.493188e+00</td>\n",
       "    </tr>\n",
       "    <tr>\n",
       "      <th>25%</th>\n",
       "      <td>-7.882448e-01</td>\n",
       "      <td>-6.587486e-01</td>\n",
       "      <td>-5.721225e-01</td>\n",
       "      <td>-6.891372e-01</td>\n",
       "      <td>-8.244151e-01</td>\n",
       "      <td>-8.854682e-01</td>\n",
       "      <td>-8.275393e-01</td>\n",
       "      <td>-7.401412e-01</td>\n",
       "      <td>-5.972835e-01</td>\n",
       "      <td>-7.951025e-01</td>\n",
       "      <td>-7.675624e-01</td>\n",
       "      <td>-9.522483e-01</td>\n",
       "      <td>-7.846378e-01</td>\n",
       "    </tr>\n",
       "    <tr>\n",
       "      <th>50%</th>\n",
       "      <td>6.099988e-02</td>\n",
       "      <td>-4.231120e-01</td>\n",
       "      <td>-2.382132e-02</td>\n",
       "      <td>1.518295e-03</td>\n",
       "      <td>-1.222817e-01</td>\n",
       "      <td>9.595986e-02</td>\n",
       "      <td>1.061497e-01</td>\n",
       "      <td>-1.760948e-01</td>\n",
       "      <td>-6.289785e-02</td>\n",
       "      <td>-1.592246e-01</td>\n",
       "      <td>3.312687e-02</td>\n",
       "      <td>2.377348e-01</td>\n",
       "      <td>-2.337204e-01</td>\n",
       "    </tr>\n",
       "    <tr>\n",
       "      <th>75%</th>\n",
       "      <td>8.361286e-01</td>\n",
       "      <td>6.697929e-01</td>\n",
       "      <td>6.981085e-01</td>\n",
       "      <td>6.020883e-01</td>\n",
       "      <td>5.096384e-01</td>\n",
       "      <td>8.089974e-01</td>\n",
       "      <td>8.490851e-01</td>\n",
       "      <td>6.095413e-01</td>\n",
       "      <td>6.291754e-01</td>\n",
       "      <td>4.939560e-01</td>\n",
       "      <td>7.131644e-01</td>\n",
       "      <td>7.885875e-01</td>\n",
       "      <td>7.582494e-01</td>\n",
       "    </tr>\n",
       "    <tr>\n",
       "      <th>max</th>\n",
       "      <td>2.259772e+00</td>\n",
       "      <td>3.109192e+00</td>\n",
       "      <td>3.156325e+00</td>\n",
       "      <td>3.154511e+00</td>\n",
       "      <td>4.371372e+00</td>\n",
       "      <td>2.539515e+00</td>\n",
       "      <td>3.062832e+00</td>\n",
       "      <td>2.402403e+00</td>\n",
       "      <td>3.485073e+00</td>\n",
       "      <td>3.435432e+00</td>\n",
       "      <td>3.301694e+00</td>\n",
       "      <td>1.960915e+00</td>\n",
       "      <td>2.971473e+00</td>\n",
       "    </tr>\n",
       "  </tbody>\n",
       "</table>\n",
       "</div>"
      ],
      "text/plain": [
       "                 0             1             2             3             4   \\\n",
       "count  1.780000e+02  1.780000e+02  1.780000e+02  1.780000e+02  1.780000e+02   \n",
       "mean   7.841418e-15  2.444986e-16 -4.059175e-15 -7.110417e-17 -2.494883e-17   \n",
       "std    1.002821e+00  1.002821e+00  1.002821e+00  1.002821e+00  1.002821e+00   \n",
       "min   -2.434235e+00 -1.432983e+00 -3.679162e+00 -2.671018e+00 -2.088255e+00   \n",
       "25%   -7.882448e-01 -6.587486e-01 -5.721225e-01 -6.891372e-01 -8.244151e-01   \n",
       "50%    6.099988e-02 -4.231120e-01 -2.382132e-02  1.518295e-03 -1.222817e-01   \n",
       "75%    8.361286e-01  6.697929e-01  6.981085e-01  6.020883e-01  5.096384e-01   \n",
       "max    2.259772e+00  3.109192e+00  3.156325e+00  3.154511e+00  4.371372e+00   \n",
       "\n",
       "                 5             6             7             8             9   \\\n",
       "count  1.780000e+02  1.780000e+02  1.780000e+02  1.780000e+02  1.780000e+02   \n",
       "mean  -1.955365e-16  9.443133e-16 -4.178929e-16 -1.540590e-15 -4.129032e-16   \n",
       "std    1.002821e+00  1.002821e+00  1.002821e+00  1.002821e+00  1.002821e+00   \n",
       "min   -2.107246e+00 -1.695971e+00 -1.868234e+00 -2.069034e+00 -1.634288e+00   \n",
       "25%   -8.854682e-01 -8.275393e-01 -7.401412e-01 -5.972835e-01 -7.951025e-01   \n",
       "50%    9.595986e-02  1.061497e-01 -1.760948e-01 -6.289785e-02 -1.592246e-01   \n",
       "75%    8.089974e-01  8.490851e-01  6.095413e-01  6.291754e-01  4.939560e-01   \n",
       "max    2.539515e+00  3.062832e+00  2.402403e+00  3.485073e+00  3.435432e+00   \n",
       "\n",
       "                 10            11            12  \n",
       "count  1.780000e+02  1.780000e+02  1.780000e+02  \n",
       "mean   1.398382e-15  2.126888e-15 -6.985673e-17  \n",
       "std    1.002821e+00  1.002821e+00  1.002821e+00  \n",
       "min   -2.094732e+00 -1.895054e+00 -1.493188e+00  \n",
       "25%   -7.675624e-01 -9.522483e-01 -7.846378e-01  \n",
       "50%    3.312687e-02  2.377348e-01 -2.337204e-01  \n",
       "75%    7.131644e-01  7.885875e-01  7.582494e-01  \n",
       "max    3.301694e+00  1.960915e+00  2.971473e+00  "
      ]
     },
     "execution_count": 3,
     "metadata": {},
     "output_type": "execute_result"
    }
   ],
   "source": [
    "from sklearn.preprocessing import StandardScaler\n",
    "\n",
    "std_scale = StandardScaler().fit(X)\n",
    "X_std = std_scale.transform(X)\n",
    "\n",
    "pd.DataFrame(X_std,y).describe()"
   ]
  },
  {
   "cell_type": "markdown",
   "id": "756778d1",
   "metadata": {},
   "source": [
    "# 4. Data Segregation"
   ]
  },
  {
   "cell_type": "markdown",
   "id": "d3c4c9b7",
   "metadata": {},
   "source": [
    "### Split the data into training and testing"
   ]
  },
  {
   "cell_type": "code",
   "execution_count": 4,
   "id": "36f4bc6b",
   "metadata": {},
   "outputs": [],
   "source": [
    "from sklearn.model_selection import train_test_split\n",
    "\n",
    "X_train, X_test, y_train, y_test = train_test_split(X_std,y, random_state=42)\n",
    "# test_size is default 0.25 if train_size also none. i.e. train = 0.75, train = 0.25\n",
    "#defining a seed to get the same split in the data"
   ]
  },
  {
   "cell_type": "code",
   "execution_count": 5,
   "id": "8cf06a02",
   "metadata": {},
   "outputs": [
    {
     "data": {
      "text/plain": [
       "(133, 13)"
      ]
     },
     "execution_count": 5,
     "metadata": {},
     "output_type": "execute_result"
    }
   ],
   "source": [
    "X_train.shape"
   ]
  },
  {
   "cell_type": "code",
   "execution_count": 6,
   "id": "7d0225f4",
   "metadata": {},
   "outputs": [
    {
     "data": {
      "text/plain": [
       "(45, 13)"
      ]
     },
     "execution_count": 6,
     "metadata": {},
     "output_type": "execute_result"
    }
   ],
   "source": [
    "X_test.shape"
   ]
  },
  {
   "cell_type": "markdown",
   "id": "42121cc8",
   "metadata": {},
   "source": [
    "# 5. Model Training"
   ]
  },
  {
   "cell_type": "markdown",
   "id": "d57e2ca0",
   "metadata": {},
   "source": [
    "### Model 1. Random Forest"
   ]
  },
  {
   "cell_type": "markdown",
   "id": "21d2e98a",
   "metadata": {},
   "source": [
    "#### Defining the Random Forest model and running the machine learning pipeline"
   ]
  },
  {
   "cell_type": "code",
   "execution_count": 7,
   "id": "f801dd50",
   "metadata": {},
   "outputs": [
    {
     "data": {
      "text/plain": [
       "1.0"
      ]
     },
     "execution_count": 7,
     "metadata": {},
     "output_type": "execute_result"
    }
   ],
   "source": [
    "from sklearn.ensemble import RandomForestClassifier\n",
    "from sklearn.pipeline import make_pipeline \n",
    "from sklearn.metrics import accuracy_score\n",
    "\n",
    "rf = RandomForestClassifier(random_state=42)\n",
    "\n",
    "modelRF = make_pipeline(rf)\n",
    "modelRF = rf.fit(X_train, y_train)\n",
    "RF_y_preds = modelRF.predict(X_test)\n",
    "accuracy_score(y_test, RF_y_preds)"
   ]
  },
  {
   "cell_type": "markdown",
   "id": "3ede9ae7",
   "metadata": {},
   "source": [
    "A score of 1 suggests a perfect model. Lets challenge this with a different metric such as cross validation score with 10 folds as this will use the data differently for testing."
   ]
  },
  {
   "cell_type": "code",
   "execution_count": 8,
   "id": "20eae61f",
   "metadata": {},
   "outputs": [
    {
     "data": {
      "text/plain": [
       "array([1. , 0.8, 1. , 1. , 1. , 1. , 1. , 1. , 1. , 1. ])"
      ]
     },
     "execution_count": 8,
     "metadata": {},
     "output_type": "execute_result"
    }
   ],
   "source": [
    "from sklearn.model_selection import cross_val_score\n",
    "\n",
    "cv_scores_rf = cross_val_score(modelRF, X_test,y_test,cv=10)\n",
    "cv_scores_rf"
   ]
  },
  {
   "cell_type": "code",
   "execution_count": 9,
   "id": "75d390b3",
   "metadata": {},
   "outputs": [
    {
     "name": "stdout",
     "output_type": "stream",
     "text": [
      "mean:  0.9800000000000001\n"
     ]
    }
   ],
   "source": [
    "print(\"mean: \", cv_scores_rf.mean())"
   ]
  },
  {
   "cell_type": "markdown",
   "id": "bb9b1ffb",
   "metadata": {},
   "source": [
    "The cross validation score of 0.9800 being less than 1 is more useful as we can attempt to improve upon this with hyperparameter tuning."
   ]
  },
  {
   "cell_type": "markdown",
   "id": "01bb8a2f",
   "metadata": {},
   "source": [
    "### Model 2. SVM Classifier\n",
    "\n",
    "#### Defining the SVC model and running the machine learning pipeline"
   ]
  },
  {
   "cell_type": "code",
   "execution_count": 10,
   "id": "6b92b586",
   "metadata": {},
   "outputs": [
    {
     "data": {
      "text/plain": [
       "0.9777777777777777"
      ]
     },
     "execution_count": 10,
     "metadata": {},
     "output_type": "execute_result"
    }
   ],
   "source": [
    "from sklearn.svm import SVC \n",
    "\n",
    "svc = SVC(kernel ='rbf', class_weight='balanced')\n",
    "\n",
    "modelSVC = make_pipeline(svc) # we build the model with svc\n",
    "\n",
    "modelSVC.fit(X_train, y_train)\n",
    "SVC_y_preds = modelSVC.predict(X_test)\n",
    "accuracy_score(y_test, SVC_y_preds)"
   ]
  },
  {
   "cell_type": "markdown",
   "id": "02f4547b",
   "metadata": {},
   "source": [
    "**Cross validation score for SVC**\n",
    "\n",
    "* to keep the metrics consistent with the Random Forest model so that comparisons are uniform."
   ]
  },
  {
   "cell_type": "code",
   "execution_count": 11,
   "id": "0674b8fc",
   "metadata": {},
   "outputs": [
    {
     "data": {
      "text/plain": [
       "0.9550000000000001"
      ]
     },
     "execution_count": 11,
     "metadata": {},
     "output_type": "execute_result"
    }
   ],
   "source": [
    "cv_scores_svc = cross_val_score(modelSVC, X_test, y_test,cv=10)\n",
    "cv_scores_svc.mean()"
   ]
  },
  {
   "cell_type": "markdown",
   "id": "d4ea4c3c",
   "metadata": {},
   "source": [
    "The cross-validated score (mean) has produced a lower score than the accuracy score above.\n",
    "\n",
    "This will be the main metric that we aim to improve with hyperparmeter tuning."
   ]
  },
  {
   "cell_type": "markdown",
   "id": "8a75a790",
   "metadata": {},
   "source": [
    "# Task 2 Model evaluation\n",
    "\n",
    "Evaluate the performance of each classifier by computing their accuracy and other scores \n",
    "on the same validation data. "
   ]
  },
  {
   "cell_type": "markdown",
   "id": "b4e40930",
   "metadata": {},
   "source": [
    "## Hyperparameter tuning Random Forest\n"
   ]
  },
  {
   "cell_type": "code",
   "execution_count": 12,
   "id": "69f7bb2f",
   "metadata": {},
   "outputs": [
    {
     "name": "stdout",
     "output_type": "stream",
     "text": [
      "Fitting 3 folds for each of 500 candidates, totalling 1500 fits\n"
     ]
    },
    {
     "data": {
      "text/plain": [
       "{'max_depth': 5,\n",
       " 'min_samples_leaf': 1,\n",
       " 'min_samples_split': 2,\n",
       " 'n_estimators': 300}"
      ]
     },
     "execution_count": 12,
     "metadata": {},
     "output_type": "execute_result"
    }
   ],
   "source": [
    "from sklearn.model_selection import GridSearchCV\n",
    "\n",
    "n_estimators = [100, 300, 500, 800, 1200]\n",
    "max_depth = [5, 8, 15, 25, 30]\n",
    "min_samples_split = [2, 5, 10, 15, 100]\n",
    "min_samples_leaf = [1, 2, 5, 10] \n",
    "\n",
    "\n",
    "parameters = dict(n_estimators = n_estimators, max_depth = max_depth,  \n",
    "              min_samples_split = min_samples_split, \n",
    "             min_samples_leaf = min_samples_leaf)\n",
    "\n",
    "gridRF = GridSearchCV(rf, parameters, cv = 3, verbose = 1, \n",
    "                      n_jobs = -1)\n",
    "gridRF.fit(X_train, y_train)\n",
    "gridRF.best_params_"
   ]
  },
  {
   "cell_type": "markdown",
   "id": "9c24cd50",
   "metadata": {},
   "source": [
    "**Assigning the optimal parameters to the model, then fitting and getting the new predictions. Then the cross validated score is obtained.**"
   ]
  },
  {
   "cell_type": "code",
   "execution_count": 13,
   "id": "ef4b8065",
   "metadata": {},
   "outputs": [
    {
     "name": "stdout",
     "output_type": "stream",
     "text": [
      "0.9800000000000001\n"
     ]
    }
   ],
   "source": [
    "rf_optimal = RandomForestClassifier(random_state = 42, \n",
    "                                   max_depth = 5,     \n",
    "                                   n_estimators = 300, \n",
    "                                   min_samples_split = 2, \n",
    "                                   min_samples_leaf = 1)\n",
    "\n",
    "modelRF_optimal = rf_optimal.fit(X_train, y_train)\n",
    "\n",
    "RF_optimal_y_preds = modelRF_optimal.predict(X_test)\n",
    "\n",
    "rf_cv_scores_optimal = cross_val_score(modelRF_optimal, X_test,y_test,cv=10)\n",
    "\n",
    "print(rf_cv_scores_optimal.mean())"
   ]
  },
  {
   "cell_type": "markdown",
   "id": "0e830d6d",
   "metadata": {},
   "source": [
    "Original cross validation score (mean) = 0.9800, Tuned cross validation score (mean) = 0.9800.\n",
    "There is no improvement by tuning the hyperparameters."
   ]
  },
  {
   "cell_type": "markdown",
   "id": "69e243e6",
   "metadata": {},
   "source": [
    "## Random Forest Classification Report wtih precision, recall and accuracy"
   ]
  },
  {
   "cell_type": "code",
   "execution_count": 14,
   "id": "ad4ebc45",
   "metadata": {},
   "outputs": [
    {
     "name": "stdout",
     "output_type": "stream",
     "text": [
      "              precision    recall  f1-score   support\n",
      "\n",
      "     Class 0       1.00      1.00      1.00        15\n",
      "     Class 1       1.00      1.00      1.00        18\n",
      "     Class 2       1.00      1.00      1.00        12\n",
      "\n",
      "    accuracy                           1.00        45\n",
      "   macro avg       1.00      1.00      1.00        45\n",
      "weighted avg       1.00      1.00      1.00        45\n",
      "\n"
     ]
    }
   ],
   "source": [
    "from sklearn.metrics import classification_report\n",
    "\n",
    "print(classification_report(y_test, RF_optimal_y_preds, target_names = ['Class 0', 'Class 1', 'Class 2']))"
   ]
  },
  {
   "cell_type": "markdown",
   "id": "6bce63b3",
   "metadata": {},
   "source": [
    "### Confusion matrix for Random Forest Classifier"
   ]
  },
  {
   "cell_type": "code",
   "execution_count": 15,
   "id": "7dcdf94a",
   "metadata": {},
   "outputs": [
    {
     "data": {
      "image/png": "[encoded data removed]",
      "text/plain": [
       "<Figure size 432x288 with 1 Axes>"
      ]
     },
     "metadata": {
      "needs_background": "light"
     },
     "output_type": "display_data"
    }
   ],
   "source": [
    "from sklearn.model_selection import cross_val_predict\n",
    "from sklearn.metrics import confusion_matrix\n",
    "import matplotlib.pyplot as plt\n",
    "import seaborn as sns\n",
    "\n",
    "y_predict = cross_val_predict(modelRF_optimal,X_test, y_test, cv = 10)\n",
    "\n",
    "cmap = sns.cubehelix_palette(light=0.9, as_cmap=True)\n",
    "cm = confusion_matrix(y_test, y_predict)\n",
    "sns.heatmap(cm.T, square = True, annot=True, fmt='d', cbar=False,\n",
    "           xticklabels= ['Class 0', 'Class 1', 'Class 2'],\n",
    "           yticklabels= ['Class 0', 'Class 1', 'Class 2'], cmap=cmap)\n",
    "plt.xlabel('True label', size=12)\n",
    "plt.ylabel('predicted label', size=12)\n",
    "plt.title('Confusion Matrix of Random Forest Classifier for wine dataset')\n",
    "plt.show()"
   ]
  },
  {
   "cell_type": "markdown",
   "id": "d6f07178",
   "metadata": {},
   "source": [
    "The accuracy report shows perfect prediction regarding precision recall and accuracy. However, when using the cross validated predictions the confusion matrix shows 1 error where class 1 was incorrected predicted as class 2.\n",
    "\n",
    "As previously stated the cross validation score with 10 folds is more sensitive for this model and this data."
   ]
  },
  {
   "cell_type": "markdown",
   "id": "ada4cd6d",
   "metadata": {},
   "source": [
    "## SVC Hyperparamater tuning - GridSearchCV"
   ]
  },
  {
   "cell_type": "code",
   "execution_count": 16,
   "id": "de333d11",
   "metadata": {},
   "outputs": [
    {
     "name": "stdout",
     "output_type": "stream",
     "text": [
      "Wall time: 139 ms\n",
      "best parameters for SVC {'svc__C': 50, 'svc__gamma': 0.005}\n"
     ]
    }
   ],
   "source": [
    "from sklearn.model_selection import GridSearchCV\n",
    " \n",
    "param_grid = {'svc__C': [1, 5, 10, 50],\n",
    "              'svc__gamma': [0.0001, 0.0005, 0.001, 0.005]}\n",
    "\n",
    "#Searching for the optimal from param_grid\n",
    "gridSVC = GridSearchCV(modelSVC, param_grid, cv=5)\n",
    "\n",
    "%time gridSVC.fit(X_train, y_train)\n",
    "print('best parameters for SVC', gridSVC.best_params_)"
   ]
  },
  {
   "cell_type": "markdown",
   "id": "f1276da1",
   "metadata": {},
   "source": [
    "**Assigning the best parameters to the SVC model using grid.best_estimator_ and then fitting**"
   ]
  },
  {
   "cell_type": "code",
   "execution_count": 17,
   "id": "e0a3ea3e",
   "metadata": {},
   "outputs": [],
   "source": [
    "modelSVC_optimal = gridSVC.best_estimator_\n",
    "\n",
    "#storing the predictions in y_predict_SVC_optimal\n",
    "SVC_optimal_y_preds = modelSVC_optimal.predict(X_test)"
   ]
  },
  {
   "cell_type": "markdown",
   "id": "c22e4784",
   "metadata": {},
   "source": [
    "**Repeating the cross validation score on the optimal SVC model**"
   ]
  },
  {
   "cell_type": "code",
   "execution_count": 18,
   "id": "1992bcf0",
   "metadata": {},
   "outputs": [
    {
     "data": {
      "text/plain": [
       "0.9800000000000001"
      ]
     },
     "execution_count": 18,
     "metadata": {},
     "output_type": "execute_result"
    }
   ],
   "source": [
    "cv_scores_svc_optimal = cross_val_score(modelSVC_optimal, X_test,y_test,cv=10)\n",
    "cv_scores_svc_optimal.mean()"
   ]
  },
  {
   "cell_type": "markdown",
   "id": "27b9a16a",
   "metadata": {},
   "source": [
    "Oringinal cross validated score = 0.9800, Optimal cross validated score is 0.9800. There is no improvement."
   ]
  },
  {
   "cell_type": "markdown",
   "id": "bcf4f14c",
   "metadata": {},
   "source": [
    "**Printing the classification report wtih precision, recall and accuracy**"
   ]
  },
  {
   "cell_type": "code",
   "execution_count": 19,
   "id": "6a9ef1ac",
   "metadata": {},
   "outputs": [
    {
     "name": "stdout",
     "output_type": "stream",
     "text": [
      "0.9777777777777777\n",
      "\n",
      "              precision    recall  f1-score   support\n",
      "\n",
      "     Class 0       1.00      1.00      1.00        15\n",
      "     Class 1       1.00      0.94      0.97        18\n",
      "     Class 2       0.92      1.00      0.96        12\n",
      "\n",
      "    accuracy                           0.98        45\n",
      "   macro avg       0.97      0.98      0.98        45\n",
      "weighted avg       0.98      0.98      0.98        45\n",
      "\n"
     ]
    }
   ],
   "source": [
    "from sklearn.metrics import classification_report \n",
    "\n",
    "print(accuracy_score(y_test, SVC_optimal_y_preds))\n",
    "print()\n",
    "print(classification_report(y_test, SVC_optimal_y_preds, target_names = ['Class 0', 'Class 1', 'Class 2']))"
   ]
  },
  {
   "cell_type": "markdown",
   "id": "ca9ce003",
   "metadata": {},
   "source": [
    "**Confusion Matrix for SVC**"
   ]
  },
  {
   "cell_type": "code",
   "execution_count": 21,
   "id": "3e7af86a",
   "metadata": {},
   "outputs": [
    {
     "data": {
      "image/png": "[encoded data removed]",
      "text/plain": [
       "<Figure size 432x288 with 1 Axes>"
      ]
     },
     "metadata": {},
     "output_type": "display_data"
    }
   ],
   "source": [
    "from sklearn.metrics import confusion_matrix\n",
    "import matplotlib.pyplot as plt\n",
    "import seaborn as sns\n",
    "sns.set()\n",
    "\n",
    "SVC_cv_y_preds = cross_val_predict(modelSVC_optimal,X_test, y_test, cv = 10)\n",
    "\n",
    "cmap = sns.cubehelix_palette(light=0.9, as_cmap=True)\n",
    "cm = confusion_matrix(y_test, SVC_cv_y_preds)\n",
    "sns.heatmap(cm.T, square = True, annot=True, fmt='d', cbar=False,\n",
    "           xticklabels= ['Class 0', 'Class 1', 'Class 2'],\n",
    "           yticklabels= ['Class 0', 'Class 1', 'Class 2'], cmap=cmap)\n",
    "\n",
    "plt.xlabel('True label', size=12)\n",
    "plt.ylabel('Predicted label', size=12)\n",
    "plt.title('Confusion matrix of SVC for wine dataset')\n",
    "plt.show()"
   ]
  },
  {
   "cell_type": "markdown",
   "id": "ef34d7ea",
   "metadata": {},
   "source": [
    "Only 1 incorrect prediction using the test data. Class 1 was once predicted as Class 2."
   ]
  },
  {
   "cell_type": "markdown",
   "id": "4b90e34c",
   "metadata": {},
   "source": [
    "# Summary"
   ]
  },
  {
   "cell_type": "code",
   "execution_count": 22,
   "id": "4a7ad25e",
   "metadata": {},
   "outputs": [],
   "source": [
    "from tabulate import tabulate"
   ]
  },
  {
   "cell_type": "code",
   "execution_count": 25,
   "id": "9febb511",
   "metadata": {},
   "outputs": [
    {
     "name": "stdout",
     "output_type": "stream",
     "text": [
      "Model            PreTuneAcc    PreTuneCV    PostTuneAcc    PostTuneCV    ImpAccuracy    ImpCVscore\n",
      "-------------  ------------  -----------  -------------  ------------  -------------  ------------\n",
      "Random Forest        1             0.98          1               0.98              0         0\n",
      "SVC                  0.9778        0.955         0.9778          0.98              0         0.025\n"
     ]
    }
   ],
   "source": [
    "#create data\n",
    "data = [[\"Random Forest\", 1.0, 0.9800, 1.0, 0.9800, 0, 0], \n",
    "        [\"SVC\", 0.9778, 0.9550, 0.9778, 0.9800, 0, 0.025]]\n",
    "  \n",
    "#define header names\n",
    "col_names = [\"Model\", \"PreTuneAcc\", \"PreTuneCV\", \"PostTuneAcc\", \"PostTuneCV\", \"ImpAccuracy\", \"ImpCVscore\"]\n",
    "  \n",
    "#display table\n",
    "print(tabulate(data, headers=col_names))"
   ]
  },
  {
   "cell_type": "markdown",
   "id": "5bf92f28",
   "metadata": {},
   "source": [
    "The Random Forest model has the highest accuracy score post tuning, however the SVC model an equal cross validated score post tuning.\n",
    "\n",
    "The accuracy metric doesn't appear as sensitive as the cross validated score for this data and these models. \n",
    "\n",
    "The hyperparameter tuning has not improved the accuracy metrics of the Random Forest model, however it has improved the cross validated score of the SVC by 0.025. It appears that the similarity in scores is due to a relatively small sample size, especially for the testing sample."
   ]
  }
 ],
 "metadata": {
  "kernelspec": {
   "display_name": "Python 3",
   "language": "python",
   "name": "python3"
  },
  "language_info": {
   "codemirror_mode": {
    "name": "ipython",
    "version": 3
   },
   "file_extension": ".py",
   "mimetype": "text/x-python",
   "name": "python",
   "nbconvert_exporter": "python",
   "pygments_lexer": "ipython3",
   "version": "3.8.8"
  }
 },
 "nbformat": 4,
 "nbformat_minor": 5
}
